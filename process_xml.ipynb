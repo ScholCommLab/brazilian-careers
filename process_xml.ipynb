{
 "cells": [
  {
   "cell_type": "code",
   "execution_count": 12,
   "metadata": {},
   "outputs": [],
   "source": [
    "import csv\n",
    "import xml.etree.ElementTree as ET\n",
    "from pathlib import Path\n",
    "from pprint import pprint\n",
    "from random import shuffle\n",
    "from datetime import datetime"
   ]
  },
  {
   "cell_type": "code",
   "execution_count": 13,
   "metadata": {},
   "outputs": [],
   "source": [
    "import pandas as pd"
   ]
  },
  {
   "cell_type": "code",
   "execution_count": 14,
   "metadata": {},
   "outputs": [],
   "source": [
    "try:\n",
    "    get_ipython\n",
    "    from tqdm import tqdm_notebook as tqdm\n",
    "except:\n",
    "    from tqdm import tqdm"
   ]
  },
  {
   "cell_type": "code",
   "execution_count": 73,
   "metadata": {
    "lines_to_end_of_cell_marker": 2
   },
   "outputs": [],
   "source": [
    "input_dir = Path(\"input/cvs\")\n",
    "output_dir = Path(\"output/\")\n",
    "\n",
    "files = list(input_dir.glob(\"*.xml\"))\n",
    "\n",
    "xml_tags = pd.read_csv(\"input/xml_tags.csv\", index_col=\"field_name\")\n",
    "\n",
    "phd_xpath = \"DADOS-GERAIS/FORMACAO-ACADEMICA-TITULACAO/DOUTORADO\"\n",
    "postdoc_xpath = \"DADOS-GERAIS/FORMACAO-ACADEMICA-TITULACAO/POS-DOUTORADO\"\n",
    "publication_xpath = \"PRODUCAO-BIBLIOGRAFICA/ARTIGOS-PUBLICADOS/ARTIGO-PUBLICADO\""
   ]
  },
  {
   "cell_type": "code",
   "execution_count": 74,
   "metadata": {},
   "outputs": [],
   "source": [
    "tables_fields = xml_tags.reset_index().groupby(\"file\").field_name.unique().to_dict()"
   ]
  },
  {
   "cell_type": "code",
   "execution_count": 86,
   "metadata": {},
   "outputs": [
    {
     "data": {
      "text/plain": [
       "['phd_institution',\n",
       " 'phd_institution_code',\n",
       " 'phd_institution_other1',\n",
       " 'phd_institution_other1_code',\n",
       " 'phd_institution_other2',\n",
       " 'phd_institution_other2_code',\n",
       " 'phd_year',\n",
       " 'phd_type']"
      ]
     },
     "execution_count": 86,
     "metadata": {},
     "output_type": "execute_result"
    }
   ],
   "source": [
    "list(tables_fields['phd'])"
   ]
  },
  {
   "cell_type": "code",
   "execution_count": 92,
   "metadata": {},
   "outputs": [
    {
     "data": {
      "application/vnd.jupyter.widget-view+json": {
       "model_id": "c8ea36eff066432cbbb826d9272e5d9f",
       "version_major": 2,
       "version_minor": 0
      },
      "text/plain": [
       "HBox(children=(IntProgress(value=0, max=50), HTML(value='')))"
      ]
     },
     "metadata": {},
     "output_type": "display_data"
    }
   ],
   "source": [
    "sample_size = 50\n",
    "\n",
    "r_file = open(str(output_dir / \"researchers.csv\"), \"w\")\n",
    "researchers = csv.writer(r_file, delimiter=',')\n",
    "resercher_cols = [\"id\"] + list(tables_fields['researcher']) + [\"update_year\", \"n_phds\", \"n_postdocs\", \"n_articles\"]\n",
    "researchers.writerow(resercher_cols)\n",
    "\n",
    "phd_file = open(str(output_dir / \"phds.csv\"), \"w\")\n",
    "phds = csv.writer(phd_file, delimiter=',')\n",
    "phd_columns = list(tables_fields['phd'])\n",
    "\n",
    "phd_columns[2] = phd_columns[2][0:-1]\n",
    "phd_columns[3] = phd_columns[2] + \"_code\"\n",
    "del phd_columns[4]\n",
    "del phd_columns[4]\n",
    "\n",
    "phd_columns = [\"id\", \"rid\"] + phd_columns\n",
    "phds.writerow(phd_columns)\n",
    "\n",
    "phd_fields = list(tables_fields['phd'])\n",
    "\n",
    "postdoc_file = open(str(output_dir / \"postdocs.csv\"), \"w\")\n",
    "postdocs = csv.writer(postdoc_file, delimiter=',')\n",
    "postdoc_cols = [\"id\", \"rid\"] + list(tables_fields['postdoc'])\n",
    "postdocs.writerow(postdoc_cols)\n",
    "\n",
    "p_file = open(str(output_dir / \"publications.csv\"), \"w\")\n",
    "publications = csv.writer(p_file, delimiter=',')\n",
    "publication_cols = [\"id\", \"rid\"] + list(tables_fields['publication'])\n",
    "publications.writerow(publication_cols)\n",
    "\n",
    "failed_files = 1\n",
    "logfile =  open(\"log.txt\", \"w\")\n",
    "\n",
    "r_id = 0\n",
    "pub_id = 0\n",
    "phd_id = 0\n",
    "postdoc_id = 0\n",
    "\n",
    "shuffle(files)\n",
    "for f in tqdm(files[0:sample_size]):\n",
    "    try:\n",
    "        root = ET.parse(str(f)).getroot()\n",
    "    except:\n",
    "        logfile.write(\"{} | #{}: Couldn't read '{}'\\n\".format(datetime.now().isoformat(), failed_files, f.name))\n",
    "        failed_files = failed_files + 1\n",
    "        continue\n",
    "    \n",
    "    ### Researcher\n",
    "    researcher_row = []\n",
    "    researcher_row.append(r_id)\n",
    "    for field in tables_fields['researcher']:\n",
    "        tag = xml_tags.loc[field].parent_tag\n",
    "        attr = xml_tags.loc[field].attribute\n",
    "        if tag == \"CURRICULO-VITAE\":\n",
    "            val = root.get(attr)\n",
    "        else:\n",
    "            node = root.find(tag)\n",
    "            if node is not None:\n",
    "                val = node.get(attr)\n",
    "            else:\n",
    "                val = None\n",
    "        researcher_row.append(val)\n",
    "    researcher_row.append(researcher_row[1][-4:])\n",
    "    \n",
    "    \n",
    "    ### PhDs\n",
    "    list_phds = root.findall(phd_xpath)\n",
    "    researcher_row.append(len(list_phds))\n",
    "    \n",
    "    for phd_node in list_phds:\n",
    "        row = []\n",
    "        row.append(phd_id)\n",
    "        row.append(r_id)\n",
    "        for field in tables_fields['phd']:     \n",
    "            attr = xml_tags.loc[field].attribute\n",
    "            val = phd_node.get(attr)\n",
    "            row.append(val)\n",
    "        \n",
    "        # merge/remove the two insitution_other/institution_other_code fields\n",
    "        if row[phd_fields.index(\"phd_institution_other2\")+2] != \"\":\n",
    "            row[phd_columns.index(\"phd_institution_other\")] = row[phd_fields.index(\"phd_institution_other2\")+2]\n",
    "            row[phd_columns.index(\"phd_institution_other_code\")] = row[phd_fields.index(\"phd_institution_other2_code\")+2]\n",
    "        del row[phd_fields.index(\"phd_institution_other2\")+2]\n",
    "        del row[phd_fields.index(\"phd_institution_other2_code\")+1]\n",
    "        \n",
    "        phd_id = phd_id + 1\n",
    "        phds.writerow(row)\n",
    "\n",
    "    ### PostDocs\n",
    "    list_postdocs = root.findall(postdoc_xpath)\n",
    "    researcher_row.append(len(root.findall(postdoc_xpath)))\n",
    "    \n",
    "    for postdoc_node in root.findall(postdoc_xpath):\n",
    "        row = []\n",
    "        row.append(postdoc_id)\n",
    "        row.append(r_id)\n",
    "        for field in tables_fields['postdoc']:\n",
    "            attr = xml_tags.loc[field].attribute\n",
    "            val = postdoc_node.get(attr)\n",
    "            row.append(val)\n",
    "        postdoc_id = postdoc_id + 1\n",
    "        postdocs.writerow(row)\n",
    "    \n",
    "    \n",
    "    ### Publications\n",
    "    list_publications = root.findall(publication_xpath)\n",
    "    researcher_row.append(len(list_publications))\n",
    "    for pub_node in list_publications:\n",
    "        row = []\n",
    "        row.append(pub_id)\n",
    "        row.append(r_id)\n",
    "        for field in tables_fields['publication']:\n",
    "            subtag = xml_tags.loc[field].field_tag\n",
    "            attr = xml_tags.loc[field].attribute\n",
    "            \n",
    "            if field in [\"article_authors\", \"article_author_ids\"]:\n",
    "                # Merge all author names\n",
    "                nodes = pub_node.findall(subtag)\n",
    "                vals = [str(node.get(attr)) for node in nodes]\n",
    "                val = \" | \".join(vals)\n",
    "            elif field == \"article_author_pos\":\n",
    "                # extract the correct author order for the correct author\n",
    "                nodes = pub_node.findall(subtag)\n",
    "                val = None\n",
    "                name = researcher_row[resercher_cols.index('name')]\n",
    "                for node in nodes:\n",
    "                    if node.get(\"NOME-COMPLETO-DO-AUTOR\") == name:\n",
    "                        val = node.get(attr)\n",
    "            else:\n",
    "                # all other fields\n",
    "                subtag = xml_tags.loc[field].field_tag\n",
    "                attr = xml_tags.loc[field].attribute\n",
    "\n",
    "                node = pub_node.find(subtag)\n",
    "                if node is not None:\n",
    "                    val = node.get(attr)\n",
    "                else:\n",
    "                    val = None\n",
    "                \n",
    "            row.append(val)\n",
    "        pub_id = pub_id + 1\n",
    "        publications.writerow(row)\n",
    "    \n",
    "    researchers.writerow(researcher_row)\n",
    "    r_id = r_id + 1\n",
    "    \n",
    "### Close file streams\n",
    "logfile.close()\n",
    "\n",
    "r_file.close()\n",
    "p_file.close()\n",
    "phd_file.close()\n",
    "postdoc_file.close()"
   ]
  }
 ],
 "metadata": {
  "jupytext": {
   "formats": "ipynb,py:light"
  },
  "kernelspec": {
   "display_name": "altmetrics",
   "language": "python",
   "name": "altmetrics"
  },
  "language_info": {
   "codemirror_mode": {
    "name": "ipython",
    "version": 3
   },
   "file_extension": ".py",
   "mimetype": "text/x-python",
   "name": "python",
   "nbconvert_exporter": "python",
   "pygments_lexer": "ipython3",
   "version": "3.5.2"
  }
 },
 "nbformat": 4,
 "nbformat_minor": 2
}
