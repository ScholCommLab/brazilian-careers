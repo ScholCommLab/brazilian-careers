{
 "cells": [
  {
   "cell_type": "code",
   "execution_count": 6,
   "metadata": {},
   "outputs": [],
   "source": [
    "import csv\n",
    "import xml.etree.ElementTree as ET\n",
    "from pathlib import Path\n",
    "from pprint import pprint\n",
    "from random import shuffle"
   ]
  },
  {
   "cell_type": "code",
   "execution_count": 7,
   "metadata": {},
   "outputs": [],
   "source": [
    "import pandas as pd"
   ]
  },
  {
   "cell_type": "code",
   "execution_count": 8,
   "metadata": {},
   "outputs": [],
   "source": [
    "try:\n",
    "    get_ipython\n",
    "    from tqdm import tqdm_notebook as tqdm\n",
    "except:\n",
    "    from tqdm import tqdm"
   ]
  },
  {
   "cell_type": "code",
   "execution_count": 9,
   "metadata": {
    "lines_to_end_of_cell_marker": 2
   },
   "outputs": [],
   "source": [
    "input_dir = Path(\"input/cvs\")\n",
    "output_dir = Path(\"output/\")\n",
    "\n",
    "files = list(input_dir.glob(\"*.xml\"))\n",
    "\n",
    "xml_tags = pd.read_csv(\"input/xml_tags.csv\", sep=\";\", index_col=\"field_name\")\n",
    "\n",
    "phd_xpath = \"DADOS-GERAIS/FORMACAO-ACADEMICA-TITULACAO/DOUTORADO\"\n",
    "postdoc_xpath = \"DADOS-GERAIS/FORMACAO-ACADEMICA-TITULACAO/POS-DOUTORADO\"\n",
    "publication_xpath = \"PRODUCAO-BIBLIOGRAFICA/ARTIGOS-PUBLICADOS/ARTIGO-PUBLICADO\""
   ]
  },
  {
   "cell_type": "code",
   "execution_count": 10,
   "metadata": {},
   "outputs": [],
   "source": [
    "tables_fields = xml_tags.reset_index().groupby(\"file\").field_name.unique().to_dict()"
   ]
  },
  {
   "cell_type": "code",
   "execution_count": 11,
   "metadata": {},
   "outputs": [
    {
     "data": {
      "application/vnd.jupyter.widget-view+json": {
       "model_id": "ec525ed4e87f4c059ca291cc14960bc2",
       "version_major": 2,
       "version_minor": 0
      },
      "text/plain": [
       "HBox(children=(IntProgress(value=0), HTML(value='')))"
      ]
     },
     "metadata": {},
     "output_type": "display_data"
    },
    {
     "name": "stdout",
     "output_type": "stream",
     "text": [
      "\n"
     ]
    }
   ],
   "source": [
    "sample_size = 100\n",
    "\n",
    "r_file = open(str(output_dir / \"researchers.csv\"), \"w\")\n",
    "researchers = csv.writer(r_file, delimiter=',')\n",
    "researchers.writerow([\"id\"] + list(tables_fields['researcher']) + [\"n_phds\", \"n_postdocs\", \"n_articles\"])\n",
    "\n",
    "phd_file = open(str(output_dir / \"phds.csv\"), \"w\")\n",
    "phds = csv.writer(phd_file, delimiter=',')\n",
    "phds.writerow([\"id\", \"rid\"] + list(tables_fields['phd']))\n",
    "\n",
    "postdoc_file = open(str(output_dir / \"postdocs.csv\"), \"w\")\n",
    "postdocs = csv.writer(postdoc_file, delimiter=',')\n",
    "postdocs.writerow([\"id\", \"rid\"] + list(tables_fields['postdoc']))\n",
    "\n",
    "p_file = open(str(output_dir / \"publications.csv\"), \"w\")\n",
    "publications = csv.writer(p_file, delimiter=',')\n",
    "publications.writerow([\"id\", \"rid\"] + list(tables_fields['publication']))\n",
    "\n",
    "failed_files = 1\n",
    "logfile =  open(\"log.txt\", \"w\")\n",
    "\n",
    "r_id = 0\n",
    "pub_id = 0\n",
    "phd_id = 0\n",
    "postdoc_id = 0\n",
    "\n",
    "shuffle(files)\n",
    "for f in tqdm(files[0:sample_size]):\n",
    "    try:\n",
    "        root = ET.parse(str(f)).getroot()\n",
    "    except:\n",
    "        logfile.write(\"{}: Couldn't read '{}'\\n\".format(failed_files, f.name))\n",
    "        failed_files = failed_files + 1\n",
    "        continue\n",
    "    \n",
    "    ### Researcher\n",
    "    researcher_row = []\n",
    "    researcher_row.append(r_id)\n",
    "    for field in tables_fields['researcher']:\n",
    "        tag = xml_tags.loc[field].parent_tag\n",
    "        attr = xml_tags.loc[field].attribute\n",
    "        if tag == \"CURRICULO-VITAE\":\n",
    "            val = root.get(attr)\n",
    "        else:\n",
    "            node = root.find(tag)\n",
    "            if node is not None:\n",
    "                val = node.get(attr)\n",
    "            else:\n",
    "                val = None\n",
    "        researcher_row.append(val)\n",
    "    \n",
    "    \n",
    "    ### PhDs\n",
    "    list_phds = root.findall(phd_xpath)\n",
    "    researcher_row.append(len(list_phds))\n",
    "    \n",
    "    for phd_node in list_phds:\n",
    "        row = []\n",
    "        row.append(phd_id)\n",
    "        row.append(r_id)\n",
    "        for field in tables_fields['phd']:\n",
    "            attr = xml_tags.loc[field].attribute\n",
    "            val = phd_node.get(attr)\n",
    "            row.append(val)\n",
    "        phd_id = phd_id + 1\n",
    "        phds.writerow(row)\n",
    "\n",
    "    ### PostDocs\n",
    "    list_postdocs = root.findall(postdoc_xpath)\n",
    "    researcher_row.append(len(root.findall(postdoc_xpath)))\n",
    "    \n",
    "    for postdoc_node in root.findall(postdoc_xpath):\n",
    "        row = []\n",
    "        row.append(postdoc_id)\n",
    "        row.append(r_id)\n",
    "        for field in tables_fields['postdoc']:\n",
    "            attr = xml_tags.loc[field].attribute\n",
    "            val = phd_node.get(attr)\n",
    "            row.append(val)\n",
    "        postdoc_id = postdoc_id + 1\n",
    "        postdocs.writerow(row)\n",
    "    \n",
    "    \n",
    "    ### Publications\n",
    "    list_publications = root.findall(publication_xpath)\n",
    "    researcher_row.append(len(list_publications))\n",
    "    for pub_node in list_publications:\n",
    "        row = []\n",
    "        row.append(pub_id)\n",
    "        row.append(r_id)\n",
    "        for field in tables_fields['publication']:\n",
    "            subtag = xml_tags.loc[field].field_tag\n",
    "            attr = xml_tags.loc[field].attribute\n",
    "            \n",
    "            node = pub_node.find(subtag)\n",
    "            if node is not None:\n",
    "                val = node.get(attr)\n",
    "            else:\n",
    "                val = None\n",
    "                \n",
    "            row.append(val)\n",
    "        pub_id = pub_id + 1\n",
    "        publications.writerow(row)\n",
    "    \n",
    "    researchers.writerow(researcher_row)\n",
    "    r_id = r_id + 1\n",
    "    \n",
    "### Close file streams\n",
    "logfile.close()\n",
    "\n",
    "r_file.close()\n",
    "p_file.close()\n",
    "phd_file.close()\n",
    "postdoc_file.close()"
   ]
  }
 ],
 "metadata": {
  "jupytext": {
   "formats": "ipynb,py:light"
  },
  "kernelspec": {
   "display_name": "altmetrics",
   "language": "python",
   "name": "altmetrics"
  },
  "language_info": {
   "codemirror_mode": {
    "name": "ipython",
    "version": 3
   },
   "file_extension": ".py",
   "mimetype": "text/x-python",
   "name": "python",
   "nbconvert_exporter": "python",
   "pygments_lexer": "ipython3",
   "version": "3.5.2"
  }
 },
 "nbformat": 4,
 "nbformat_minor": 2
}
