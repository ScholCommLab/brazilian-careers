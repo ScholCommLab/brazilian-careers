{
 "cells": [
  {
   "cell_type": "code",
   "execution_count": 9,
   "metadata": {},
   "outputs": [],
   "source": [
    "import pandas as pd\n",
    "import matplotlib.pyplot as plt"
   ]
  },
  {
   "cell_type": "code",
   "execution_count": 3,
   "metadata": {},
   "outputs": [],
   "source": [
    "researchers = pd.read_csv(\"output/researchers.csv\", index_col=\"id\")\n",
    "publications = pd.read_csv(\"output/publications.csv\", index_col=\"id\")\n",
    "phds = pd.read_csv(\"output/phds.csv\", index_col=\"id\")\n",
    "postdocs = pd.read_csv(\"output/postdocs.csv\", index_col=\"id\")"
   ]
  },
  {
   "cell_type": "code",
   "execution_count": 21,
   "metadata": {},
   "outputs": [
    {
     "data": {
      "text/html": [
       "<div>\n",
       "<style scoped>\n",
       "    .dataframe tbody tr th:only-of-type {\n",
       "        vertical-align: middle;\n",
       "    }\n",
       "\n",
       "    .dataframe tbody tr th {\n",
       "        vertical-align: top;\n",
       "    }\n",
       "\n",
       "    .dataframe thead th {\n",
       "        text-align: right;\n",
       "    }\n",
       "</style>\n",
       "<table border=\"1\" class=\"dataframe\">\n",
       "  <thead>\n",
       "    <tr style=\"text-align: right;\">\n",
       "      <th></th>\n",
       "      <th>n_phds</th>\n",
       "      <th>n_postdocs</th>\n",
       "      <th>n_articles</th>\n",
       "    </tr>\n",
       "  </thead>\n",
       "  <tbody>\n",
       "    <tr>\n",
       "      <th>n_phds</th>\n",
       "      <td>1.000000</td>\n",
       "      <td>0.060283</td>\n",
       "      <td>0.032336</td>\n",
       "    </tr>\n",
       "    <tr>\n",
       "      <th>n_postdocs</th>\n",
       "      <td>0.060283</td>\n",
       "      <td>1.000000</td>\n",
       "      <td>0.191584</td>\n",
       "    </tr>\n",
       "    <tr>\n",
       "      <th>n_articles</th>\n",
       "      <td>0.032336</td>\n",
       "      <td>0.191584</td>\n",
       "      <td>1.000000</td>\n",
       "    </tr>\n",
       "  </tbody>\n",
       "</table>\n",
       "</div>"
      ],
      "text/plain": [
       "              n_phds  n_postdocs  n_articles\n",
       "n_phds      1.000000    0.060283    0.032336\n",
       "n_postdocs  0.060283    1.000000    0.191584\n",
       "n_articles  0.032336    0.191584    1.000000"
      ]
     },
     "execution_count": 21,
     "metadata": {},
     "output_type": "execute_result"
    }
   ],
   "source": [
    "researchers[['n_phds','n_postdocs','n_articles']].corr(method=\"spearman\")"
   ]
  },
  {
   "cell_type": "code",
   "execution_count": 12,
   "metadata": {},
   "outputs": [
    {
     "data": {
      "text/plain": [
       "1    19384\n",
       "2      480\n",
       "0      105\n",
       "3       14\n",
       "4        1\n",
       "Name: n_phds, dtype: int64"
      ]
     },
     "execution_count": 12,
     "metadata": {},
     "output_type": "execute_result"
    }
   ],
   "source": [
    "researchers.n_phds.value_counts()"
   ]
  },
  {
   "cell_type": "code",
   "execution_count": 18,
   "metadata": {},
   "outputs": [
    {
     "data": {
      "text/html": [
       "<div>\n",
       "<style scoped>\n",
       "    .dataframe tbody tr th:only-of-type {\n",
       "        vertical-align: middle;\n",
       "    }\n",
       "\n",
       "    .dataframe tbody tr th {\n",
       "        vertical-align: top;\n",
       "    }\n",
       "\n",
       "    .dataframe thead th {\n",
       "        text-align: right;\n",
       "    }\n",
       "</style>\n",
       "<table border=\"1\" class=\"dataframe\">\n",
       "  <thead>\n",
       "    <tr style=\"text-align: right;\">\n",
       "      <th></th>\n",
       "      <th>last_update</th>\n",
       "      <th>ID_number</th>\n",
       "      <th>n_phds</th>\n",
       "      <th>n_postdocs</th>\n",
       "      <th>n_articles</th>\n",
       "    </tr>\n",
       "  </thead>\n",
       "  <tbody>\n",
       "    <tr>\n",
       "      <th>count</th>\n",
       "      <td>19980.0</td>\n",
       "      <td>1.993800e+04</td>\n",
       "      <td>19984.0</td>\n",
       "      <td>19984.0</td>\n",
       "      <td>19984.0</td>\n",
       "    </tr>\n",
       "    <tr>\n",
       "      <th>mean</th>\n",
       "      <td>15381337.0</td>\n",
       "      <td>4.959821e+15</td>\n",
       "      <td>1.0</td>\n",
       "      <td>1.0</td>\n",
       "      <td>40.0</td>\n",
       "    </tr>\n",
       "    <tr>\n",
       "      <th>std</th>\n",
       "      <td>8787688.0</td>\n",
       "      <td>2.877956e+15</td>\n",
       "      <td>0.0</td>\n",
       "      <td>1.0</td>\n",
       "      <td>51.0</td>\n",
       "    </tr>\n",
       "    <tr>\n",
       "      <th>min</th>\n",
       "      <td>1022017.0</td>\n",
       "      <td>3.256910e+11</td>\n",
       "      <td>0.0</td>\n",
       "      <td>0.0</td>\n",
       "      <td>0.0</td>\n",
       "    </tr>\n",
       "    <tr>\n",
       "      <th>25%</th>\n",
       "      <td>8092018.0</td>\n",
       "      <td>2.509579e+15</td>\n",
       "      <td>1.0</td>\n",
       "      <td>0.0</td>\n",
       "      <td>12.0</td>\n",
       "    </tr>\n",
       "    <tr>\n",
       "      <th>50%</th>\n",
       "      <td>14082018.0</td>\n",
       "      <td>4.957722e+15</td>\n",
       "      <td>1.0</td>\n",
       "      <td>0.0</td>\n",
       "      <td>24.0</td>\n",
       "    </tr>\n",
       "    <tr>\n",
       "      <th>75%</th>\n",
       "      <td>23052018.0</td>\n",
       "      <td>7.438690e+15</td>\n",
       "      <td>1.0</td>\n",
       "      <td>1.0</td>\n",
       "      <td>49.0</td>\n",
       "    </tr>\n",
       "    <tr>\n",
       "      <th>max</th>\n",
       "      <td>31122016.0</td>\n",
       "      <td>9.999218e+15</td>\n",
       "      <td>4.0</td>\n",
       "      <td>11.0</td>\n",
       "      <td>916.0</td>\n",
       "    </tr>\n",
       "  </tbody>\n",
       "</table>\n",
       "</div>"
      ],
      "text/plain": [
       "       last_update     ID_number   n_phds  n_postdocs  n_articles\n",
       "count      19980.0  1.993800e+04  19984.0     19984.0     19984.0\n",
       "mean    15381337.0  4.959821e+15      1.0         1.0        40.0\n",
       "std      8787688.0  2.877956e+15      0.0         1.0        51.0\n",
       "min      1022017.0  3.256910e+11      0.0         0.0         0.0\n",
       "25%      8092018.0  2.509579e+15      1.0         0.0        12.0\n",
       "50%     14082018.0  4.957722e+15      1.0         0.0        24.0\n",
       "75%     23052018.0  7.438690e+15      1.0         1.0        49.0\n",
       "max     31122016.0  9.999218e+15      4.0        11.0       916.0"
      ]
     },
     "execution_count": 18,
     "metadata": {},
     "output_type": "execute_result"
    }
   ],
   "source": [
    "researchers.describe().round()"
   ]
  }
 ],
 "metadata": {
  "kernelspec": {
   "display_name": "altmetrics",
   "language": "python",
   "name": "altmetrics"
  },
  "language_info": {
   "codemirror_mode": {
    "name": "ipython",
    "version": 3
   },
   "file_extension": ".py",
   "mimetype": "text/x-python",
   "name": "python",
   "nbconvert_exporter": "python",
   "pygments_lexer": "ipython3",
   "version": "3.5.2"
  }
 },
 "nbformat": 4,
 "nbformat_minor": 2
}
