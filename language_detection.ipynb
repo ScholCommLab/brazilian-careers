{
 "cells": [
  {
   "cell_type": "code",
   "execution_count": 54,
   "metadata": {},
   "outputs": [],
   "source": [
    "import csv\n",
    "\n",
    "import langdetect \n",
    "from langdetect import DetectorFactory\n",
    "from tqdm import tqdm\n",
    "import pandas as pd"
   ]
  },
  {
   "cell_type": "code",
   "execution_count": 55,
   "metadata": {},
   "outputs": [],
   "source": [
    "DetectorFactory.seed = 0\n",
    "\n",
    "lang_map = {\n",
    "    'Inglês': 'en',\n",
    "    'Português': 'pt',\n",
    "    'Espanhol': 'es',\n",
    "    'Francês': 'fr',\n",
    "    'Árabe': 'ar'\n",
    "}"
   ]
  },
  {
   "cell_type": "code",
   "execution_count": 52,
   "metadata": {},
   "outputs": [],
   "source": [
    "with open(\"output/publications.csv\", \"r\") as temp:\n",
    "    numlines = len(temp.readlines())\n",
    "\n",
    "input_file = open(\"output/publications.csv\", \"r\")\n",
    "input_reader = csv.DictReader(input_file, delimiter=',')\n",
    "\n",
    "output_file = open(\"output/detected_languages.csv\", \"w\")\n",
    "csv_writer = csv.writer(output_file)\n",
    "csv_writer.writerow(['id', 'article_language', 'article_title', 'detected_lang', 'lang_mapping']);"
   ]
  },
  {
   "cell_type": "code",
   "execution_count": 53,
   "metadata": {},
   "outputs": [
    {
     "name": "stderr",
     "output_type": "stream",
     "text": [
      "\n",
      "  0%|          | 0/2304 [00:00<?, ?it/s]\u001b[A\n",
      "  0%|          | 10/2304 [00:00<00:24, 93.75it/s]\u001b[A\n",
      "  1%|          | 18/2304 [00:00<00:25, 88.71it/s]\u001b[A\n",
      "  1%|▏         | 29/2304 [00:00<00:24, 93.08it/s]\u001b[A\n",
      "  2%|▏         | 40/2304 [00:00<00:24, 93.47it/s]\u001b[A\n",
      "  2%|▏         | 51/2304 [00:00<00:23, 96.48it/s]\u001b[A\n",
      "  3%|▎         | 60/2304 [00:00<00:24, 91.86it/s]\u001b[A\n",
      "  3%|▎         | 72/2304 [00:00<00:22, 97.79it/s]\u001b[A\n",
      "  4%|▎         | 82/2304 [00:00<00:23, 93.55it/s]\u001b[A\n",
      "  4%|▍         | 94/2304 [00:00<00:22, 100.05it/s]\u001b[A\n",
      "  5%|▍         | 104/2304 [00:01<00:26, 84.34it/s]\u001b[A\n",
      "  5%|▍         | 115/2304 [00:01<00:24, 89.64it/s]\u001b[A\n",
      "  5%|▌         | 125/2304 [00:01<00:24, 88.07it/s]\u001b[A\n",
      "  6%|▌         | 135/2304 [00:01<00:27, 78.71it/s]\u001b[A\n",
      "  6%|▋         | 149/2304 [00:01<00:23, 89.85it/s]\u001b[A\n",
      "  7%|▋         | 159/2304 [00:01<00:23, 90.48it/s]\u001b[A\n",
      "  7%|▋         | 169/2304 [00:01<00:24, 87.58it/s]\u001b[A\n",
      "  8%|▊         | 179/2304 [00:01<00:25, 84.87it/s]\u001b[A\n",
      "  8%|▊         | 191/2304 [00:02<00:23, 91.87it/s]\u001b[A\n",
      "  9%|▉         | 204/2304 [00:02<00:21, 99.39it/s]\u001b[A\n",
      "  9%|▉         | 216/2304 [00:02<00:20, 104.26it/s]\u001b[A\n",
      " 10%|▉         | 227/2304 [00:02<00:22, 93.26it/s] \u001b[A\n",
      " 10%|█         | 238/2304 [00:02<00:21, 96.37it/s]\u001b[A\n",
      " 11%|█         | 250/2304 [00:02<00:20, 101.34it/s]\u001b[A\n",
      " 11%|█▏        | 264/2304 [00:02<00:18, 110.45it/s]\u001b[A\n",
      " 12%|█▏        | 276/2304 [00:02<00:17, 113.07it/s]\u001b[A\n",
      " 12%|█▎        | 288/2304 [00:02<00:18, 106.26it/s]\u001b[A\n",
      " 13%|█▎        | 299/2304 [00:03<00:19, 100.81it/s]\u001b[A\n",
      " 13%|█▎        | 310/2304 [00:03<00:22, 86.79it/s] \u001b[A\n",
      " 14%|█▍        | 322/2304 [00:03<00:21, 93.47it/s]\u001b[A\n",
      " 15%|█▍        | 335/2304 [00:03<00:19, 99.07it/s]\u001b[A\n",
      " 15%|█▌        | 346/2304 [00:03<00:20, 95.18it/s]\u001b[A\n",
      " 15%|█▌        | 356/2304 [00:03<00:21, 90.80it/s]\u001b[A\n",
      " 16%|█▌        | 366/2304 [00:03<00:22, 84.73it/s]\u001b[A\n",
      " 16%|█▋        | 375/2304 [00:03<00:23, 82.89it/s]\u001b[A\n",
      " 17%|█▋        | 384/2304 [00:04<00:23, 82.67it/s]\u001b[A\n",
      " 17%|█▋        | 400/2304 [00:04<00:19, 96.48it/s]\u001b[A\n",
      " 18%|█▊        | 411/2304 [00:04<00:23, 80.41it/s]\u001b[A\n",
      " 18%|█▊        | 422/2304 [00:04<00:22, 85.43it/s]\u001b[A\n",
      " 19%|█▉        | 432/2304 [00:04<00:23, 81.32it/s]\u001b[A\n",
      " 19%|█▉        | 441/2304 [00:04<00:24, 75.28it/s]\u001b[A\n",
      " 20%|█▉        | 450/2304 [00:04<00:24, 77.21it/s]\u001b[A\n",
      " 20%|█▉        | 459/2304 [00:05<00:26, 69.43it/s]\u001b[A\n",
      " 20%|██        | 467/2304 [00:05<00:26, 68.06it/s]\u001b[A\n",
      "\u001b[A"
     ]
    },
    {
     "ename": "KeyboardInterrupt",
     "evalue": "",
     "output_type": "error",
     "traceback": [
      "\u001b[0;31m---------------------------------------------------------------------------\u001b[0m",
      "\u001b[0;31mKeyboardInterrupt\u001b[0m                         Traceback (most recent call last)",
      "\u001b[0;32m<ipython-input-53-378e825fe689>\u001b[0m in \u001b[0;36m<module>\u001b[0;34m()\u001b[0m\n\u001b[1;32m      4\u001b[0m     \u001b[0marticle_title\u001b[0m \u001b[0;34m=\u001b[0m \u001b[0mline\u001b[0m\u001b[0;34m[\u001b[0m\u001b[0;34m'article_title'\u001b[0m\u001b[0;34m]\u001b[0m\u001b[0;34m\u001b[0m\u001b[0m\n\u001b[1;32m      5\u001b[0m \u001b[0;34m\u001b[0m\u001b[0m\n\u001b[0;32m----> 6\u001b[0;31m     \u001b[0mdetected_lang\u001b[0m \u001b[0;34m=\u001b[0m \u001b[0mlangdetect\u001b[0m\u001b[0;34m.\u001b[0m\u001b[0mdetect\u001b[0m\u001b[0;34m(\u001b[0m\u001b[0marticle_title\u001b[0m\u001b[0;34m)\u001b[0m\u001b[0;34m\u001b[0m\u001b[0m\n\u001b[0m\u001b[1;32m      7\u001b[0m \u001b[0;34m\u001b[0m\u001b[0m\n\u001b[1;32m      8\u001b[0m     \u001b[0;32mif\u001b[0m \u001b[0marticle_language\u001b[0m \u001b[0;32min\u001b[0m \u001b[0mlang_map\u001b[0m\u001b[0;34m:\u001b[0m\u001b[0;34m\u001b[0m\u001b[0m\n",
      "\u001b[0;32m~/.virtualenvs/altmetrics/lib/python3.5/site-packages/langdetect/detector_factory.py\u001b[0m in \u001b[0;36mdetect\u001b[0;34m(text)\u001b[0m\n\u001b[1;32m    128\u001b[0m     \u001b[0mdetector\u001b[0m \u001b[0;34m=\u001b[0m \u001b[0m_factory\u001b[0m\u001b[0;34m.\u001b[0m\u001b[0mcreate\u001b[0m\u001b[0;34m(\u001b[0m\u001b[0;34m)\u001b[0m\u001b[0;34m\u001b[0m\u001b[0m\n\u001b[1;32m    129\u001b[0m     \u001b[0mdetector\u001b[0m\u001b[0;34m.\u001b[0m\u001b[0mappend\u001b[0m\u001b[0;34m(\u001b[0m\u001b[0mtext\u001b[0m\u001b[0;34m)\u001b[0m\u001b[0;34m\u001b[0m\u001b[0m\n\u001b[0;32m--> 130\u001b[0;31m     \u001b[0;32mreturn\u001b[0m \u001b[0mdetector\u001b[0m\u001b[0;34m.\u001b[0m\u001b[0mdetect\u001b[0m\u001b[0;34m(\u001b[0m\u001b[0;34m)\u001b[0m\u001b[0;34m\u001b[0m\u001b[0m\n\u001b[0m\u001b[1;32m    131\u001b[0m \u001b[0;34m\u001b[0m\u001b[0m\n\u001b[1;32m    132\u001b[0m \u001b[0;34m\u001b[0m\u001b[0m\n",
      "\u001b[0;32m~/.virtualenvs/altmetrics/lib/python3.5/site-packages/langdetect/detector.py\u001b[0m in \u001b[0;36mdetect\u001b[0;34m(self)\u001b[0m\n\u001b[1;32m    134\u001b[0m         \u001b[0mwhich\u001b[0m \u001b[0mhas\u001b[0m \u001b[0mthe\u001b[0m \u001b[0mhighest\u001b[0m \u001b[0mprobability\u001b[0m\u001b[0;34m.\u001b[0m\u001b[0;34m\u001b[0m\u001b[0m\n\u001b[1;32m    135\u001b[0m         '''\n\u001b[0;32m--> 136\u001b[0;31m         \u001b[0mprobabilities\u001b[0m \u001b[0;34m=\u001b[0m \u001b[0mself\u001b[0m\u001b[0;34m.\u001b[0m\u001b[0mget_probabilities\u001b[0m\u001b[0;34m(\u001b[0m\u001b[0;34m)\u001b[0m\u001b[0;34m\u001b[0m\u001b[0m\n\u001b[0m\u001b[1;32m    137\u001b[0m         \u001b[0;32mif\u001b[0m \u001b[0mprobabilities\u001b[0m\u001b[0;34m:\u001b[0m\u001b[0;34m\u001b[0m\u001b[0m\n\u001b[1;32m    138\u001b[0m             \u001b[0;32mreturn\u001b[0m \u001b[0mprobabilities\u001b[0m\u001b[0;34m[\u001b[0m\u001b[0;36m0\u001b[0m\u001b[0;34m]\u001b[0m\u001b[0;34m.\u001b[0m\u001b[0mlang\u001b[0m\u001b[0;34m\u001b[0m\u001b[0m\n",
      "\u001b[0;32m~/.virtualenvs/altmetrics/lib/python3.5/site-packages/langdetect/detector.py\u001b[0m in \u001b[0;36mget_probabilities\u001b[0;34m(self)\u001b[0m\n\u001b[1;32m    141\u001b[0m     \u001b[0;32mdef\u001b[0m \u001b[0mget_probabilities\u001b[0m\u001b[0;34m(\u001b[0m\u001b[0mself\u001b[0m\u001b[0;34m)\u001b[0m\u001b[0;34m:\u001b[0m\u001b[0;34m\u001b[0m\u001b[0m\n\u001b[1;32m    142\u001b[0m         \u001b[0;32mif\u001b[0m \u001b[0mself\u001b[0m\u001b[0;34m.\u001b[0m\u001b[0mlangprob\u001b[0m \u001b[0;32mis\u001b[0m \u001b[0;32mNone\u001b[0m\u001b[0;34m:\u001b[0m\u001b[0;34m\u001b[0m\u001b[0m\n\u001b[0;32m--> 143\u001b[0;31m             \u001b[0mself\u001b[0m\u001b[0;34m.\u001b[0m\u001b[0m_detect_block\u001b[0m\u001b[0;34m(\u001b[0m\u001b[0;34m)\u001b[0m\u001b[0;34m\u001b[0m\u001b[0m\n\u001b[0m\u001b[1;32m    144\u001b[0m         \u001b[0;32mreturn\u001b[0m \u001b[0mself\u001b[0m\u001b[0;34m.\u001b[0m\u001b[0m_sort_probability\u001b[0m\u001b[0;34m(\u001b[0m\u001b[0mself\u001b[0m\u001b[0;34m.\u001b[0m\u001b[0mlangprob\u001b[0m\u001b[0;34m)\u001b[0m\u001b[0;34m\u001b[0m\u001b[0m\n\u001b[1;32m    145\u001b[0m \u001b[0;34m\u001b[0m\u001b[0m\n",
      "\u001b[0;32m~/.virtualenvs/altmetrics/lib/python3.5/site-packages/langdetect/detector.py\u001b[0m in \u001b[0;36m_detect_block\u001b[0;34m(self)\u001b[0m\n\u001b[1;32m    161\u001b[0m                 \u001b[0mself\u001b[0m\u001b[0;34m.\u001b[0m\u001b[0m_update_lang_prob\u001b[0m\u001b[0;34m(\u001b[0m\u001b[0mprob\u001b[0m\u001b[0;34m,\u001b[0m \u001b[0mself\u001b[0m\u001b[0;34m.\u001b[0m\u001b[0mrandom\u001b[0m\u001b[0;34m.\u001b[0m\u001b[0mchoice\u001b[0m\u001b[0;34m(\u001b[0m\u001b[0mngrams\u001b[0m\u001b[0;34m)\u001b[0m\u001b[0;34m,\u001b[0m \u001b[0malpha\u001b[0m\u001b[0;34m)\u001b[0m\u001b[0;34m\u001b[0m\u001b[0m\n\u001b[1;32m    162\u001b[0m                 \u001b[0;32mif\u001b[0m \u001b[0mi\u001b[0m \u001b[0;34m%\u001b[0m \u001b[0;36m5\u001b[0m \u001b[0;34m==\u001b[0m \u001b[0;36m0\u001b[0m\u001b[0;34m:\u001b[0m\u001b[0;34m\u001b[0m\u001b[0m\n\u001b[0;32m--> 163\u001b[0;31m                     \u001b[0;32mif\u001b[0m \u001b[0mself\u001b[0m\u001b[0;34m.\u001b[0m\u001b[0m_normalize_prob\u001b[0m\u001b[0;34m(\u001b[0m\u001b[0mprob\u001b[0m\u001b[0;34m)\u001b[0m \u001b[0;34m>\u001b[0m \u001b[0mself\u001b[0m\u001b[0;34m.\u001b[0m\u001b[0mCONV_THRESHOLD\u001b[0m \u001b[0;32mor\u001b[0m \u001b[0mi\u001b[0m \u001b[0;34m>=\u001b[0m \u001b[0mself\u001b[0m\u001b[0;34m.\u001b[0m\u001b[0mITERATION_LIMIT\u001b[0m\u001b[0;34m:\u001b[0m\u001b[0;34m\u001b[0m\u001b[0m\n\u001b[0m\u001b[1;32m    164\u001b[0m                         \u001b[0;32mbreak\u001b[0m\u001b[0;34m\u001b[0m\u001b[0m\n\u001b[1;32m    165\u001b[0m                     \u001b[0;32mif\u001b[0m \u001b[0mself\u001b[0m\u001b[0;34m.\u001b[0m\u001b[0mverbose\u001b[0m\u001b[0;34m:\u001b[0m\u001b[0;34m\u001b[0m\u001b[0m\n",
      "\u001b[0;32m~/.virtualenvs/altmetrics/lib/python3.5/site-packages/langdetect/detector.py\u001b[0m in \u001b[0;36m_normalize_prob\u001b[0;34m(self, prob)\u001b[0m\n\u001b[1;32m    226\u001b[0m         \u001b[0mmaxp\u001b[0m\u001b[0;34m,\u001b[0m \u001b[0msump\u001b[0m \u001b[0;34m=\u001b[0m \u001b[0;36m0.0\u001b[0m\u001b[0;34m,\u001b[0m \u001b[0msum\u001b[0m\u001b[0;34m(\u001b[0m\u001b[0mprob\u001b[0m\u001b[0;34m)\u001b[0m\u001b[0;34m\u001b[0m\u001b[0m\n\u001b[1;32m    227\u001b[0m         \u001b[0;32mfor\u001b[0m \u001b[0mi\u001b[0m \u001b[0;32min\u001b[0m \u001b[0mxrange\u001b[0m\u001b[0;34m(\u001b[0m\u001b[0mlen\u001b[0m\u001b[0;34m(\u001b[0m\u001b[0mprob\u001b[0m\u001b[0;34m)\u001b[0m\u001b[0;34m)\u001b[0m\u001b[0;34m:\u001b[0m\u001b[0;34m\u001b[0m\u001b[0m\n\u001b[0;32m--> 228\u001b[0;31m             \u001b[0mp\u001b[0m \u001b[0;34m=\u001b[0m \u001b[0mprob\u001b[0m\u001b[0;34m[\u001b[0m\u001b[0mi\u001b[0m\u001b[0;34m]\u001b[0m \u001b[0;34m/\u001b[0m \u001b[0msump\u001b[0m\u001b[0;34m\u001b[0m\u001b[0m\n\u001b[0m\u001b[1;32m    229\u001b[0m             \u001b[0;32mif\u001b[0m \u001b[0mmaxp\u001b[0m \u001b[0;34m<\u001b[0m \u001b[0mp\u001b[0m\u001b[0;34m:\u001b[0m\u001b[0;34m\u001b[0m\u001b[0m\n\u001b[1;32m    230\u001b[0m                 \u001b[0mmaxp\u001b[0m \u001b[0;34m=\u001b[0m \u001b[0mp\u001b[0m\u001b[0;34m\u001b[0m\u001b[0m\n",
      "\u001b[0;31mKeyboardInterrupt\u001b[0m: "
     ]
    }
   ],
   "source": [
    "for line in tqdm(input_reader, total=numlines):\n",
    "    pid = line['id']\n",
    "    article_language = line['article_language']\n",
    "    article_title = line['article_title']\n",
    "    \n",
    "    detected_lang = langdetect.detect(article_title)\n",
    "    \n",
    "    if article_language in lang_map:\n",
    "        mapped_lang = lang_map[article_language]\n",
    "    else:\n",
    "        mapped_lang = None\n",
    "    \n",
    "    csv_writer.writerow([pid, article_language, article_title, detected_lang, mapped_lang])"
   ]
  },
  {
   "cell_type": "code",
   "execution_count": 47,
   "metadata": {},
   "outputs": [],
   "source": [
    "input_file.close()\n",
    "output_file.close()"
   ]
  },
  {
   "cell_type": "code",
   "execution_count": 62,
   "metadata": {},
   "outputs": [
    {
     "data": {
      "text/html": [
       "<div>\n",
       "<style scoped>\n",
       "    .dataframe tbody tr th:only-of-type {\n",
       "        vertical-align: middle;\n",
       "    }\n",
       "\n",
       "    .dataframe tbody tr th {\n",
       "        vertical-align: top;\n",
       "    }\n",
       "\n",
       "    .dataframe thead th {\n",
       "        text-align: right;\n",
       "    }\n",
       "</style>\n",
       "<table border=\"1\" class=\"dataframe\">\n",
       "  <thead>\n",
       "    <tr style=\"text-align: right;\">\n",
       "      <th></th>\n",
       "      <th>article_language</th>\n",
       "      <th>article_title</th>\n",
       "      <th>detected_lang</th>\n",
       "      <th>lang_mapping</th>\n",
       "    </tr>\n",
       "    <tr>\n",
       "      <th>id</th>\n",
       "      <th></th>\n",
       "      <th></th>\n",
       "      <th></th>\n",
       "      <th></th>\n",
       "    </tr>\n",
       "  </thead>\n",
       "  <tbody>\n",
       "    <tr>\n",
       "      <th>0</th>\n",
       "      <td>Inglês</td>\n",
       "      <td>Catalytic activity of anionic iron(III) porphy...</td>\n",
       "      <td>en</td>\n",
       "      <td>en</td>\n",
       "    </tr>\n",
       "    <tr>\n",
       "      <th>1</th>\n",
       "      <td>Inglês</td>\n",
       "      <td>Immobilization of iron(III) porphyrins on exfo...</td>\n",
       "      <td>en</td>\n",
       "      <td>en</td>\n",
       "    </tr>\n",
       "    <tr>\n",
       "      <th>2</th>\n",
       "      <td>Inglês</td>\n",
       "      <td>First insight into catalytic activity of anion...</td>\n",
       "      <td>en</td>\n",
       "      <td>en</td>\n",
       "    </tr>\n",
       "    <tr>\n",
       "      <th>3</th>\n",
       "      <td>Inglês</td>\n",
       "      <td>Immobilization of metalloporphyrinsin differen...</td>\n",
       "      <td>en</td>\n",
       "      <td>en</td>\n",
       "    </tr>\n",
       "    <tr>\n",
       "      <th>4</th>\n",
       "      <td>Inglês</td>\n",
       "      <td>Use of anhydrous sodium molybdate as an effici...</td>\n",
       "      <td>en</td>\n",
       "      <td>en</td>\n",
       "    </tr>\n",
       "  </tbody>\n",
       "</table>\n",
       "</div>"
      ],
      "text/plain": [
       "   article_language                                      article_title  \\\n",
       "id                                                                       \n",
       "0            Inglês  Catalytic activity of anionic iron(III) porphy...   \n",
       "1            Inglês  Immobilization of iron(III) porphyrins on exfo...   \n",
       "2            Inglês  First insight into catalytic activity of anion...   \n",
       "3            Inglês  Immobilization of metalloporphyrinsin differen...   \n",
       "4            Inglês  Use of anhydrous sodium molybdate as an effici...   \n",
       "\n",
       "   detected_lang lang_mapping  \n",
       "id                             \n",
       "0             en           en  \n",
       "1             en           en  \n",
       "2             en           en  \n",
       "3             en           en  \n",
       "4             en           en  "
      ]
     },
     "execution_count": 62,
     "metadata": {},
     "output_type": "execute_result"
    }
   ],
   "source": [
    "pubs = pd.read_csv(\"output/detected_languages.csv\", index_col=\"id\")\n",
    "pubs.head()"
   ]
  },
  {
   "cell_type": "code",
   "execution_count": 67,
   "metadata": {},
   "outputs": [
    {
     "name": "stdout",
     "output_type": "stream",
     "text": [
      "Matching languages: 83.6%\n"
     ]
    }
   ],
   "source": [
    "x = pubs['lang_mapping'] == pubs['detected_lang']\n",
    "y = 100 * x.sum() / len(x)\n",
    "\n",
    "print(\"Matching languages: {:.1f}%\".format(y))"
   ]
  }
 ],
 "metadata": {
  "jupytext": {
   "formats": "ipynb,py:light"
  },
  "kernelspec": {
   "display_name": "altmetrics",
   "language": "python",
   "name": "altmetrics"
  },
  "language_info": {
   "codemirror_mode": {
    "name": "ipython",
    "version": 3
   },
   "file_extension": ".py",
   "mimetype": "text/x-python",
   "name": "python",
   "nbconvert_exporter": "python",
   "pygments_lexer": "ipython3",
   "version": "3.5.2"
  }
 },
 "nbformat": 4,
 "nbformat_minor": 2
}
