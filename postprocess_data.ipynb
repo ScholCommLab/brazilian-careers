{
 "cells": [
  {
   "cell_type": "code",
   "execution_count": 57,
   "metadata": {},
   "outputs": [],
   "source": [
    "import pandas as pd\n",
    "from pathlib import Path"
   ]
  },
  {
   "cell_type": "code",
   "execution_count": 58,
   "metadata": {},
   "outputs": [],
   "source": [
    "output_dir = Path(\"output/\")"
   ]
  },
  {
   "cell_type": "code",
   "execution_count": 59,
   "metadata": {},
   "outputs": [],
   "source": [
    "researchers = pd.read_csv(output_dir / \"researchers.csv\", index_col=\"id\", dtype={'ID_number':str})\n",
    "phds = pd.read_csv(output_dir / \"phds.csv\", index_col=\"id\")\n",
    "postdocs = pd.read_csv(output_dir / \"postdocs.csv\", index_col=\"id\")"
   ]
  },
  {
   "cell_type": "code",
   "execution_count": 63,
   "metadata": {},
   "outputs": [],
   "source": [
    "# combine all multiple PhDs\n",
    "merged_phds = phds.groupby(\"rid\")[['phd_institution','phd_institution_other','phd_year','phd_type']]\n",
    "merged_phds = merged_phds.apply(lambda x: x.apply(lambda y: \" | \".join([str(_) for _ in y])))"
   ]
  },
  {
   "cell_type": "code",
   "execution_count": 66,
   "metadata": {},
   "outputs": [],
   "source": [
    "# combine all multiple postgrads\n",
    "merged_postdocs = postdocs.groupby(\"rid\")[['postdoc_year', 'postdoc_status', 'postdoc_institution']]\n",
    "merged_postdocs = merged_postdocs.apply(lambda x: x.apply(lambda y: \" | \".join([str(_) for _ in y])))"
   ]
  },
  {
   "cell_type": "code",
   "execution_count": 76,
   "metadata": {},
   "outputs": [],
   "source": [
    "# merge all dataframes\n",
    "researchers = researchers.merge(merged_phds, left_index=True, right_index=True, how=\"left\")\n",
    "researchers = researchers.merge(merged_postdocs, left_index=True, right_index=True, how=\"left\")\n",
    "researchers = researchers.rename(columns={'id':'rid'})"
   ]
  },
  {
   "cell_type": "code",
   "execution_count": 77,
   "metadata": {},
   "outputs": [],
   "source": [
    "researchers.to_csv(output_dir / \"researchers_phds_postdocs.csv\")"
   ]
  }
 ],
 "metadata": {
  "jupytext": {
   "formats": "ipynb,py:light"
  },
  "kernelspec": {
   "display_name": "altmetrics",
   "language": "python",
   "name": "altmetrics"
  },
  "language_info": {
   "codemirror_mode": {
    "name": "ipython",
    "version": 3
   },
   "file_extension": ".py",
   "mimetype": "text/x-python",
   "name": "python",
   "nbconvert_exporter": "python",
   "pygments_lexer": "ipython3",
   "version": "3.5.2"
  }
 },
 "nbformat": 4,
 "nbformat_minor": 2
}
